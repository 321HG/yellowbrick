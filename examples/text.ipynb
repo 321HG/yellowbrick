{
 "cells": [
  {
   "cell_type": "code",
   "execution_count": 1,
   "metadata": {
    "collapsed": true
   },
   "outputs": [],
   "source": [
    "%matplotlib inline"
   ]
  },
  {
   "cell_type": "markdown",
   "metadata": {},
   "source": [
    "# Yellowbrick Text Examples \n",
    "\n",
    "This notebook is a sample of the text visualizations that yellowbrick provides"
   ]
  },
  {
   "cell_type": "code",
   "execution_count": 2,
   "metadata": {
    "collapsed": true
   },
   "outputs": [],
   "source": [
    "import os\n",
    "import sys \n",
    "\n",
    "# Modify the path \n",
    "sys.path.append(\"..\")\n",
    "\n",
    "import yellowbrick as yb \n",
    "import matplotlib.pyplot as plt "
   ]
  },
  {
   "cell_type": "markdown",
   "metadata": {},
   "source": [
    "## Load Text Corpus for Example Code\n",
    "\n",
    "Yellowbrick has provided a text corpus wrangled from the [Baleen RSS Corpus](http://baleen.districtdatalabs.com/) to present the following examples. If you haven't downloaded the data, you can do so by running:\n",
    "\n",
    "```\n",
    "$ python download.py\n",
    "```\n",
    "\n",
    "In the same directory as the text notebook. Note that this will create a directory called `data` that contains subdirectories with the provided datasets. "
   ]
  },
  {
   "cell_type": "code",
   "execution_count": 3,
   "metadata": {
    "collapsed": false
   },
   "outputs": [],
   "source": [
    "from download import download_all \n",
    "from sklearn.datasets.base import Bunch\n",
    "\n",
    "## The path to the test data sets\n",
    "FIXTURES  = os.path.join(os.getcwd(), \"data\")\n",
    "\n",
    "## Dataset loading mechanisms\n",
    "datasets = {\n",
    "    \"hobbies\": os.path.join(FIXTURES, \"hobbies\")\n",
    "}\n",
    "\n",
    "\n",
    "def load_data(name, download=True):\n",
    "    \"\"\"\n",
    "    Loads and wrangles the passed in text corpus by name.\n",
    "    If download is specified, this method will download any missing files. \n",
    "    \"\"\"\n",
    "    \n",
    "    # Get the path from the datasets \n",
    "    path = datasets[name]\n",
    "    \n",
    "    # Check if the data exists, otherwise download or raise \n",
    "    if not os.path.exists(path):\n",
    "        if download:\n",
    "            download_all() \n",
    "        else:\n",
    "            raise ValueError((\n",
    "                \"'{}' dataset has not been downloaded, \"\n",
    "                \"use the download.py module to fetch datasets\"\n",
    "            ).format(name))\n",
    "    \n",
    "    # Read the directories in the directory as the categories. \n",
    "    categories = [\n",
    "        cat for cat in os.listdir(path) \n",
    "        if os.path.isdir(os.path.join(path, cat))\n",
    "    ]\n",
    "    \n",
    "    \n",
    "    files  = [] # holds the file names relative to the root \n",
    "    data   = [] # holds the text read from the file \n",
    "    target = [] # holds the string of the category \n",
    "        \n",
    "    # Load the data from the files in the corpus \n",
    "    for cat in categories:\n",
    "        for name in os.listdir(os.path.join(path, cat)):\n",
    "            files.append(os.path.join(path, cat, name))\n",
    "            target.append(cat)\n",
    "            \n",
    "            with open(os.path.join(path, cat, name), 'r') as f:\n",
    "                data.append(f.read())\n",
    "        \n",
    "    \n",
    "    # Return the data bunch for use similar to the newsgroups example\n",
    "    return Bunch(\n",
    "        categories=categories,\n",
    "        files=files,\n",
    "        data=data,\n",
    "        target=target,\n",
    "    )"
   ]
  }
 ],
 "metadata": {
  "kernelspec": {
   "display_name": "Python 3",
   "language": "python",
   "name": "python3"
  },
  "language_info": {
   "codemirror_mode": {
    "name": "ipython",
    "version": 3
   },
   "file_extension": ".py",
   "mimetype": "text/x-python",
   "name": "python",
   "nbconvert_exporter": "python",
   "pygments_lexer": "ipython3",
   "version": "3.5.2"
  }
 },
 "nbformat": 4,
 "nbformat_minor": 0
}
