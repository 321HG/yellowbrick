{
 "cells": [
  {
   "cell_type": "markdown",
   "metadata": {},
   "source": [
    "# Visual Pipelines \n",
    "\n",
    "This notebook demonstrates a proof of concept for a visual pipeline for analytics. \n",
    "\n",
    "![Yellowbrick Prototype Pipeline Objects](figures/pipeline_prototype.png)"
   ]
  },
  {
   "cell_type": "code",
   "execution_count": 219,
   "metadata": {
    "collapsed": false
   },
   "outputs": [],
   "source": [
    "%matplotlib inline\n",
    "\n",
    "import os\n",
    "import sys \n",
    "\n",
    "# Modify the path \n",
    "sys.path.append(\"..\")\n",
    "\n",
    "import numpy as np\n",
    "import pandas as pd\n",
    "import yellowbrick as yb \n",
    "import matplotlib as mpl \n",
    "import matplotlib.pyplot as plt "
   ]
  },
  {
   "cell_type": "markdown",
   "metadata": {},
   "source": [
    "## Load Datasets \n",
    "\n",
    "Note that if datasets do not exist, please see the `download.py` located in this directory. "
   ]
  },
  {
   "cell_type": "code",
   "execution_count": 220,
   "metadata": {
    "collapsed": false
   },
   "outputs": [],
   "source": [
    "FIXTURES  = os.path.join(os.getcwd(), \"data\")\n",
    "credit    = pd.read_excel(os.path.join(FIXTURES, \"credit.xls\"), header=1)\n",
    "concrete  = pd.read_excel(os.path.join(FIXTURES, \"concrete.xls\"))\n",
    "occupancy = pd.read_csv(os.path.join('data','occupancy','datatraining.txt'))"
   ]
  },
  {
   "cell_type": "code",
   "execution_count": 221,
   "metadata": {
    "collapsed": true
   },
   "outputs": [],
   "source": [
    "# Rename the columns of the datasets for ease of use. \n",
    "credit.columns = [\n",
    "    'id', 'limit', 'sex', 'edu', 'married', 'age', 'apr_delay', 'may_delay',\n",
    "    'jun_delay', 'jul_delay', 'aug_delay', 'sep_delay', 'apr_bill', 'may_bill',\n",
    "    'jun_bill', 'jul_bill', 'aug_bill', 'sep_bill', 'apr_pay', 'may_pay', 'jun_pay',\n",
    "    'jul_pay', 'aug_pay', 'sep_pay', 'default'\n",
    "]\n",
    "\n",
    "concrete.columns = [\n",
    "    'cement', 'slag', 'ash', 'water', 'splast',\n",
    "    'coarse', 'fine', 'age', 'strength'\n",
    "]\n",
    "\n",
    "occupancy.columns = [\n",
    "    'date', 'temp', 'humid', 'light', 'co2', 'hratio', 'occupied'\n",
    "]\n"
   ]
  },
  {
   "cell_type": "markdown",
   "metadata": {},
   "source": [
    "## Evaluation Visualization Prototype"
   ]
  },
  {
   "cell_type": "code",
   "execution_count": 222,
   "metadata": {
    "collapsed": false
   },
   "outputs": [],
   "source": [
    "from sklearn.pipeline import Pipeline\n",
    "from sklearn.base import BaseEstimator, TransformerMixin\n",
    "\n",
    "\n",
    "class VisualPipeline(Pipeline):\n",
    "    \n",
    "    def draw(self):\n",
    "        \"\"\"\n",
    "        Calls the draw method on every visual transformer/estimator  \n",
    "        \"\"\"\n",
    "        for name, estimator in self.steps:\n",
    "            try:\n",
    "                estimator.draw()\n",
    "            except AttributeError:\n",
    "                continue \n",
    "\n",
    "                \n",
    "class ClassifierEvaluation(object):\n",
    "    \n",
    "    def draw(self):\n",
    "        yb.crplot()"
   ]
  },
  {
   "cell_type": "code",
   "execution_count": 223,
   "metadata": {
    "collapsed": false
   },
   "outputs": [
    {
     "data": {
      "text/plain": [
       "[('scale', StandardScaler(copy=True, with_mean=True, with_std=True)),\n",
       " ('model', LinearSVC(C=1.0, class_weight=None, dual=True, fit_intercept=True,\n",
       "       intercept_scaling=1, loss='squared_hinge', max_iter=1000,\n",
       "       multi_class='ovr', penalty='l2', random_state=None, tol=0.0001,\n",
       "       verbose=0))]"
      ]
     },
     "execution_count": 223,
     "metadata": {},
     "output_type": "execute_result"
    }
   ],
   "source": [
    "from sklearn.svm import LinearSVC\n",
    "from sklearn.preprocessing import StandardScaler \n",
    "\n",
    "model = Pipeline([\n",
    "    ('scale', StandardScaler()), \n",
    "    ('model', LinearSVC())\n",
    "])\n",
    "\n",
    "model.steps"
   ]
  },
  {
   "cell_type": "markdown",
   "metadata": {},
   "source": [
    "## `Visualizer` class\n",
    "\n",
    "In base.py at the root of yellowbrick."
   ]
  },
  {
   "cell_type": "code",
   "execution_count": 224,
   "metadata": {
    "collapsed": false
   },
   "outputs": [],
   "source": [
    "class Visualizer(BaseEstimator):\n",
    "    \"\"\"\n",
    "    Base class for feature visualization and model visualization.\n",
    "    \n",
    "    Ensures that styling arguments are passed in.\n",
    "    \"\"\"\n",
    "    \n",
    "    def __init__(self, **kwargs):\n",
    "        self.size  = kwargs.pop('size')\n",
    "        self.color = kwargs.pop('color')\n",
    "        \n",
    "    def fit(self, X, y=None, **kwargs):\n",
    "        \"\"\"\n",
    "        Fits a transformer to X and y \n",
    "        \"\"\"\n",
    "        pass\n",
    "    \n",
    "    def _draw(self, **kwargs):\n",
    "        pass\n",
    "    \n",
    "    def poof(self, model=None):\n",
    "        \"\"\"\n",
    "        Visualizes either data features \n",
    "        or fitted model scores\n",
    "        \"\"\"\n",
    "        pass\n",
    "    \n",
    "    def fit_draw(self, X, y=None):\n",
    "        \"\"\"\n",
    "        Fits a transformer to X and y then returns\n",
    "        visualization of features or fitted model.\n",
    "        \"\"\"\n",
    "        pass\n",
    "    "
   ]
  },
  {
   "cell_type": "markdown",
   "metadata": {},
   "source": [
    "## `FeatureVisualizer` base class\n",
    "\n",
    "Comes between or at the end of transformers but before the estimator. "
   ]
  },
  {
   "cell_type": "code",
   "execution_count": 225,
   "metadata": {
    "collapsed": false
   },
   "outputs": [],
   "source": [
    "class FeatureVisualizer(Visualizer, TransformerMixin):\n",
    "    \"\"\"\n",
    "    Base class for feature visualization to investigate features \n",
    "    individually or together.\n",
    "    \n",
    "    FeatureVisualizer is itself a transformer so that it can be used in\n",
    "    a Scikit-Learn Pipeline to perform automatic visual analysis during build.\n",
    "    \n",
    "    Accepts as input a DataFrame or Numpy array.\n",
    "    \"\"\"    \n",
    "    \n",
    "    def __init__(self):\n",
    "        pass\n",
    "    \n",
    "    def fit(self, X, y=None, **kwargs):\n",
    "        pass\n",
    "    \n",
    "    def transform(self, X):\n",
    "        pass\n",
    "    \n",
    "    def poof(self, data=None):\n",
    "        \"\"\"\n",
    "        Visualize data features individually or together\n",
    "        \"\"\"\n",
    "        pass\n",
    "    \n",
    "    def fit_draw(self, X, data=None):\n",
    "        pass\n",
    "    \n",
    "    def fit_transform(self, X, data=None):\n",
    "        pass"
   ]
  },
  {
   "cell_type": "markdown",
   "metadata": {},
   "source": [
    "## `ScoreVisualizer` class for estimators\n",
    "\n",
    "Base class to follow an estimator in a pipeline. Not a transformer. "
   ]
  },
  {
   "cell_type": "code",
   "execution_count": null,
   "metadata": {
    "collapsed": true
   },
   "outputs": [],
   "source": [
    "class ScoreVisualizer(Visualizer):\n",
    "    \"\"\"\n",
    "    Base class to follow an estimator in a visual pipeline.\n",
    "    \n",
    "    Draws the score for the fitted model.\n",
    "    \"\"\"\n",
    "    \n",
    "    def __init__(self, model):\n",
    "        pass\n",
    "    \n",
    "    def fit(self, X, y=None):\n",
    "        pass\n",
    "    \n",
    "    def predict(self, X):\n",
    "        pass\n",
    "    \n",
    "    def score(self, y, y_pred=None):\n",
    "        \"\"\"\n",
    "        Score will call draw to visualize model performance.\n",
    "        If y_pred is None, call fit-predict on the model to get a y_pred.\n",
    "        \"\"\"\n",
    "        return self.draw(y,y_pred)\n",
    "\n",
    "    def _draw(self, X, y):\n",
    "        pass \n",
    "    \n",
    "    def poof(self, **kwargs):\n",
    "        \"\"\"\n",
    "        Poof calls render\n",
    "        \"\"\"\n",
    "        pass\n",
    "\n"
   ]
  },
  {
   "cell_type": "code",
   "execution_count": 226,
   "metadata": {
    "collapsed": false
   },
   "outputs": [],
   "source": [
    "from yellowbrick.color_utils import ddlheatmap\n",
    "from yellowbrick.utils import get_model_name, isestimator\n",
    "from sklearn.metrics import auc, roc_auc_score, roc_curve, precision_recall_fscore_support\n",
    "\n",
    "class ClassificationScoreVisualizer(ScoreVisualizer):\n",
    "    \n",
    "    def __init__(self, model):\n",
    "        \"\"\"\n",
    "        Check to see if model is an instance of a classifer.\n",
    "        Should return a metrics mismatch error if it isn't.\n",
    "        \"\"\"\n",
    "        pass\n",
    "\n",
    "class ROCAUC(ClassificationScoreVisualizer):\n",
    "    \"\"\"\n",
    "    Plot the ROC to visualize the tradeoff between the classifier's\n",
    "    sensitivity and specificity.\n",
    "    \"\"\"\n",
    "    def __init__(self, model, **kwargs):\n",
    "        \"\"\"\n",
    "        Pass in a model to generate a ROC curve.\n",
    "        \"\"\"\n",
    "        self.estimator = model\n",
    "        self.name = get_model_name(self.estimator)\n",
    "        super(ROCAUC, self).__init__(model, **kwargs)\n",
    "        self.colors = {\n",
    "            'roc': kwargs.pop('roc_color', '#2B94E9'),\n",
    "            'diagonal': kwargs.pop('diagonal_color', '#666666'),\n",
    "        }\n",
    "\n",
    "        \n",
    "    def fit(self):\n",
    "        pass\n",
    "    \n",
    "    def predict(self):\n",
    "        pass\n",
    "    \n",
    "    def score(self, y, y_pred=None):\n",
    "        self.fpr, self.tpr, self.thresholds = roc_curve(y, y_pred)\n",
    "        self.roc_auc = auc(self.fpr, self.tpr)\n",
    "        self._draw(y, y_pred)\n",
    "        \n",
    "    def _draw(self, y, y_pred):\n",
    "        \"\"\"\n",
    "        Renders ROC-AUC plot.\n",
    "        Called internally by score, possibly more than once\n",
    "        \"\"\"\n",
    "        plt.figure()    \n",
    "        plt.plot(self.fpr, self.tpr, c=self.colors['roc'], label='AUC = {:0.2f}'.format(self.roc_auc))\n",
    "\n",
    "        # Plot the line of no discrimination to compare the curve to.\n",
    "        plt.plot([0,1],[0,1],'m--',c=self.colors['diagonal'])\n",
    "\n",
    "\n",
    "    def poof(self, **kwargs):\n",
    "        \"\"\"        \n",
    "        Called by user.\n",
    "        \n",
    "        Only takes self.\n",
    "        \n",
    "        Take in the model as input and generates a plot of\n",
    "        the ROC plots with AUC metrics embedded.\n",
    "        \"\"\"\n",
    "        plt.title('ROC for {}'.format(self.name))\n",
    "        plt.legend(loc='lower right')\n",
    "\n",
    "        plt.xlim([-0.02,1])\n",
    "        plt.ylim([0,1.1])\n",
    "\n",
    "        return plt\n",
    "\n",
    "class ClassificationReport(ClassificationScoreVisualizer):\n",
    "    \"\"\"\n",
    "    Classification report that shows the precision, recall, and F1 scores\n",
    "    for the model. Integrates numerical scores as well color-coded heatmap.\n",
    "    \"\"\"\n",
    "    def __init__(self, model, **kwargs):\n",
    "        \"\"\"\n",
    "        Pass in a fitted model to generate a ROC curve.\n",
    "        \"\"\"\n",
    "        self.estimator = model\n",
    "        self.name = get_model_name(self.estimator)\n",
    "        self.cmap = kwargs.pop('cmap', ddlheatmap)\n",
    "        self.classes = model.classes_\n",
    "\n",
    "        \n",
    "    def score(self, y, y_pred=None, **kwargs):\n",
    "        \"\"\"\n",
    "        Generates the Scikit-Learn classification_report\n",
    "        \"\"\"\n",
    "        self.keys = ('precision', 'recall', 'f1')\n",
    "        self.scores = precision_recall_fscore_support(y, y_pred, labels=self.classes)\n",
    "        self.scores = map(lambda s: dict(zip(self.classes, s)), self.scores[0:3])\n",
    "        self.scores = dict(zip(self.keys, self.scores))  \n",
    "        self._draw(y, y_pred)\n",
    "\n",
    "        \n",
    "    def _draw(self, y, y_pred):\n",
    "        \"\"\"\n",
    "        Renders the classification report across each axis.\n",
    "        \"\"\"        \n",
    "        fig, ax = plt.subplots(1)\n",
    "\n",
    "        self.matrix = []\n",
    "        for cls in self.classes:\n",
    "            self.matrix.append([self.scores['precision'][cls],self.scores['recall'][cls],self.scores['f1'][cls]])\n",
    "       \n",
    "        for column in range(len(self.matrix)+1):\n",
    "            for row in range(len(self.classes)):   \n",
    "                ax.text(column,row,self.matrix[row][column],va='center',ha='center')\n",
    "\n",
    "        fig = plt.imshow(self.matrix, interpolation='nearest', cmap=self.cmap)\n",
    "        return ax\n",
    "\n",
    "\n",
    "    def poof(self):\n",
    "        \"\"\"\n",
    "        Plots a classification report as a heatmap.\n",
    "        \"\"\"\n",
    "        plt.title('{} Classification Report'.format(self.name))\n",
    "        plt.colorbar()\n",
    "        x_tick_marks = np.arange(len(self.classes)+1)\n",
    "        y_tick_marks = np.arange(len(self.classes))\n",
    "        plt.xticks(x_tick_marks, ['precision', 'recall', 'f1-score'], rotation=45)\n",
    "        plt.yticks(y_tick_marks, self.classes)\n",
    "        plt.ylabel('Classes')\n",
    "        plt.xlabel('Measures')\n",
    "\n",
    "        return plt"
   ]
  },
  {
   "cell_type": "code",
   "execution_count": 227,
   "metadata": {
    "collapsed": false
   },
   "outputs": [],
   "source": [
    "from sklearn.svm import LinearSVC\n",
    "from sklearn.tree import DecisionTreeClassifier\n",
    "from sklearn.linear_model import LogisticRegression\n",
    "\n",
    "X = occupancy[['temp','humid','light','co2','hratio']]\n",
    "y = occupancy['occupied']"
   ]
  },
  {
   "cell_type": "code",
   "execution_count": 228,
   "metadata": {
    "collapsed": false
   },
   "outputs": [],
   "source": [
    "model = LinearSVC()\n",
    "model.fit(X,y)\n",
    "y_pred = model.predict(X)"
   ]
  },
  {
   "cell_type": "code",
   "execution_count": 229,
   "metadata": {
    "collapsed": false
   },
   "outputs": [
    {
     "data": {
      "text/plain": [
       "<module 'matplotlib.pyplot' from '/Library/Frameworks/Python.framework/Versions/2.7/lib/python2.7/site-packages/matplotlib/pyplot.pyc'>"
      ]
     },
     "execution_count": 229,
     "metadata": {},
     "output_type": "execute_result"
    },
    {
     "data": {
      "image/png": "[encoded data removed]",
      "text/plain": [
       "<matplotlib.figure.Figure at 0x10a314390>"
      ]
     },
     "metadata": {},
     "output_type": "display_data"
    }
   ],
   "source": [
    "sviz = ROCAUC(model)\n",
    "sviz.score(y,y_pred)\n",
    "sviz.poof() "
   ]
  },
  {
   "cell_type": "code",
   "execution_count": 230,
   "metadata": {
    "collapsed": false
   },
   "outputs": [
    {
     "data": {
      "text/plain": [
       "<module 'matplotlib.pyplot' from '/Library/Frameworks/Python.framework/Versions/2.7/lib/python2.7/site-packages/matplotlib/pyplot.pyc'>"
      ]
     },
     "execution_count": 230,
     "metadata": {},
     "output_type": "execute_result"
    },
    {
     "data": {
      "image/png": "[encoded data removed]",
      "text/plain": [
       "<matplotlib.figure.Figure at 0x10a541350>"
      ]
     },
     "metadata": {},
     "output_type": "display_data"
    }
   ],
   "source": [
    "model = DecisionTreeClassifier()\n",
    "model.fit(X,y)\n",
    "y_pred = model.predict(X)\n",
    "sviz = ROCAUC(model)\n",
    "sviz.score(y,y_pred)\n",
    "sviz.poof() "
   ]
  },
  {
   "cell_type": "code",
   "execution_count": 231,
   "metadata": {
    "collapsed": false
   },
   "outputs": [
    {
     "data": {
      "text/plain": [
       "<module 'matplotlib.pyplot' from '/Library/Frameworks/Python.framework/Versions/2.7/lib/python2.7/site-packages/matplotlib/pyplot.pyc'>"
      ]
     },
     "execution_count": 231,
     "metadata": {},
     "output_type": "execute_result"
    },
    {
     "data": {
      "image/png": "[encoded data removed]",
      "text/plain": [
       "<matplotlib.figure.Figure at 0x10b45f310>"
      ]
     },
     "metadata": {},
     "output_type": "display_data"
    }
   ],
   "source": [
    "model = LogisticRegression()\n",
    "model.fit(X,y)\n",
    "y_pred = model.predict(X)\n",
    "sviz = ROCAUC(model)\n",
    "sviz.score(y,y_pred)\n",
    "sviz.poof() "
   ]
  },
  {
   "cell_type": "code",
   "execution_count": 233,
   "metadata": {
    "collapsed": false
   },
   "outputs": [
    {
     "data": {
      "text/plain": [
       "<module 'matplotlib.pyplot' from '/Library/Frameworks/Python.framework/Versions/2.7/lib/python2.7/site-packages/matplotlib/pyplot.pyc'>"
      ]
     },
     "execution_count": 233,
     "metadata": {},
     "output_type": "execute_result"
    },
    {
     "data": {
      "image/png": "[encoded data removed]",
      "text/plain": [
       "<matplotlib.figure.Figure at 0x10b356e90>"
      ]
     },
     "metadata": {},
     "output_type": "display_data"
    }
   ],
   "source": [
    "model = DecisionTreeClassifier()\n",
    "model.fit(X,y)\n",
    "y_pred = model.predict(X)\n",
    "sviz = ClassificationReport(model)\n",
    "sviz.score(y,y_pred)\n",
    "sviz.poof() "
   ]
  },
  {
   "cell_type": "code",
   "execution_count": 232,
   "metadata": {
    "collapsed": false
   },
   "outputs": [
    {
     "data": {
      "text/plain": [
       "<module 'matplotlib.pyplot' from '/Library/Frameworks/Python.framework/Versions/2.7/lib/python2.7/site-packages/matplotlib/pyplot.pyc'>"
      ]
     },
     "execution_count": 232,
     "metadata": {},
     "output_type": "execute_result"
    },
    {
     "data": {
      "image/png": "[encoded data removed]",
      "text/plain": [
       "<matplotlib.figure.Figure at 0x10b3ba590>"
      ]
     },
     "metadata": {},
     "output_type": "display_data"
    }
   ],
   "source": [
    "model = LogisticRegression()\n",
    "model.fit(X,y)\n",
    "y_pred = model.predict(X)\n",
    "sviz = ClassificationReport(model)\n",
    "sviz.score(y,y_pred)\n",
    "sviz.poof() "
   ]
  },
  {
   "cell_type": "code",
   "execution_count": 234,
   "metadata": {
    "collapsed": false
   },
   "outputs": [
    {
     "data": {
      "text/plain": [
       "<module 'matplotlib.pyplot' from '/Library/Frameworks/Python.framework/Versions/2.7/lib/python2.7/site-packages/matplotlib/pyplot.pyc'>"
      ]
     },
     "execution_count": 234,
     "metadata": {},
     "output_type": "execute_result"
    },
    {
     "data": {
      "image/png": "[encoded data removed]",
      "text/plain": [
       "<matplotlib.figure.Figure at 0x10b40f590>"
      ]
     },
     "metadata": {},
     "output_type": "display_data"
    }
   ],
   "source": [
    "model = LinearSVC()\n",
    "model.fit(X,y)\n",
    "y_pred = model.predict(X)\n",
    "sviz = ClassificationReport(model)\n",
    "sviz.score(y,y_pred)\n",
    "sviz.poof() "
   ]
  },
  {
   "cell_type": "code",
   "execution_count": null,
   "metadata": {
    "collapsed": true
   },
   "outputs": [],
   "source": []
  }
 ],
 "metadata": {
  "kernelspec": {
   "display_name": "Python 2",
   "language": "python",
   "name": "python2"
  },
  "language_info": {
   "codemirror_mode": {
    "name": "ipython",
    "version": 2
   },
   "file_extension": ".py",
   "mimetype": "text/x-python",
   "name": "python",
   "nbconvert_exporter": "python",
   "pygments_lexer": "ipython2",
   "version": "2.7.9"
  }
 },
 "nbformat": 4,
 "nbformat_minor": 0
}
