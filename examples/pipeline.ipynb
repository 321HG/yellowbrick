{
 "cells": [
  {
   "cell_type": "markdown",
   "metadata": {},
   "source": [
    "# Visual Pipelines \n",
    "\n",
    "This notebook demonstrates a proof of concept for a visual pipeline for analytics. \n",
    "\n",
    "![Yellowbrick Prototype Pipeline Objects](figures/pipeline_prototype.png)"
   ]
  },
  {
   "cell_type": "code",
   "execution_count": 14,
   "metadata": {
    "collapsed": true
   },
   "outputs": [],
   "source": [
    "%matplotlib inline\n",
    "\n",
    "import os\n",
    "import sys \n",
    "\n",
    "# Modify the path \n",
    "sys.path.append(\"..\")\n",
    "\n",
    "import pandas as pd\n",
    "import yellowbrick as yb \n",
    "import matplotlib as mpl \n",
    "import matplotlib.pyplot as plt "
   ]
  },
  {
   "cell_type": "markdown",
   "metadata": {},
   "source": [
    "## Load Datasets \n",
    "\n",
    "Note that if datasets do not exist, please see the `download.py` located in this directory. "
   ]
  },
  {
   "cell_type": "code",
   "execution_count": 2,
   "metadata": {
    "collapsed": true
   },
   "outputs": [],
   "source": [
    "FIXTURES  = os.path.join(os.getcwd(), \"data\")\n",
    "credit    = pd.read_excel(os.path.join(FIXTURES, \"credit.xls\"), header=1)\n",
    "concrete  = pd.read_excel(os.path.join(FIXTURES, \"concrete.xls\"))\n",
    "occupancy = pd.read_csv(os.path.join('data','occupancy','datatraining.txt'))"
   ]
  },
  {
   "cell_type": "code",
   "execution_count": 3,
   "metadata": {
    "collapsed": true
   },
   "outputs": [],
   "source": [
    "# Rename the columns of the datasets for ease of use. \n",
    "credit.columns = [\n",
    "    'id', 'limit', 'sex', 'edu', 'married', 'age', 'apr_delay', 'may_delay',\n",
    "    'jun_delay', 'jul_delay', 'aug_delay', 'sep_delay', 'apr_bill', 'may_bill',\n",
    "    'jun_bill', 'jul_bill', 'aug_bill', 'sep_bill', 'apr_pay', 'may_pay', 'jun_pay',\n",
    "    'jul_pay', 'aug_pay', 'sep_pay', 'default'\n",
    "]\n",
    "\n",
    "concrete.columns = [\n",
    "    'cement', 'slag', 'ash', 'water', 'splast',\n",
    "    'coarse', 'fine', 'age', 'strength'\n",
    "]\n",
    "\n",
    "occupancy.columns = [\n",
    "    'date', 'temp', 'humid', 'light', 'co2', 'hratio', 'occupied'\n",
    "]\n"
   ]
  },
  {
   "cell_type": "code",
   "execution_count": 12,
   "metadata": {
    "collapsed": false
   },
   "outputs": [
    {
     "data": {
      "text/plain": [
       "[('scale', StandardScaler(copy=True, with_mean=True, with_std=True)),\n",
       " ('model', LinearSVC(C=1.0, class_weight=None, dual=True, fit_intercept=True,\n",
       "       intercept_scaling=1, loss='squared_hinge', max_iter=1000,\n",
       "       multi_class='ovr', penalty='l2', random_state=None, tol=0.0001,\n",
       "       verbose=0))]"
      ]
     },
     "execution_count": 12,
     "metadata": {},
     "output_type": "execute_result"
    }
   ],
   "source": [
    "from sklearn.svm import LinearSVC\n",
    "from sklearn.preprocessing import StandardScaler \n",
    "\n",
    "model = Pipeline([\n",
    "    ('scale', StandardScaler()), \n",
    "    ('model', LinearSVC())\n",
    "])\n",
    "\n",
    "model.steps"
   ]
  },
  {
   "cell_type": "markdown",
   "metadata": {},
   "source": [
    "## Evaluation Visualization Prototype"
   ]
  },
  {
   "cell_type": "code",
   "execution_count": 5,
   "metadata": {
    "collapsed": false
   },
   "outputs": [],
   "source": [
    "from sklearn.pipeline import Pipeline\n",
    "from sklearn.base import BaseEstimator, TransformerMixin\n",
    "\n",
    "\n",
    "class VisualPipeline(Pipeline):\n",
    "    \n",
    "    def draw(self):\n",
    "        \"\"\"\n",
    "        Calls the draw method on every visual transformer/estimator  \n",
    "        \"\"\"\n",
    "        for name, estimator in self.steps:\n",
    "            try:\n",
    "                estimator.draw()\n",
    "            except AttributeError:\n",
    "                continue \n",
    "\n",
    "                \n",
    "class ClassifierEvaluation(object):\n",
    "    \n",
    "    def draw(self):\n",
    "        yb.crplot()"
   ]
  },
  {
   "cell_type": "markdown",
   "metadata": {},
   "source": [
    "## `VisualizerMixin` class\n",
    "\n",
    "In base.py at the root of yellowbrick.\n",
    "\n",
    "The intent is that visualizers should extend Scikit-Learn's `BaseEstimator`, `TransformerMixin` and our `VisualizerMixin` classes - giving it the following required methods:\n",
    "\n",
    " - `fit`    \n",
    " - `draw`    \n",
    " - `fit_draw`    \n",
    "\n",
    "The idea is that fit will be passed X data and maybe y data and will prepare the data for drawing, and then draw will actual conduct the drawing.\n",
    "\n",
    "The __init__ method should take styling arguments. So things like size, color, whether or not to save to a file, markers, line stuff, etc.\n",
    "\n",
    "NOTE: check if the transformer mixin extends from `BaseEstimator` and if it does, then also subclass `VisualizerMixin` from `BaseEstimator` - to allow us use of set_param and get_param on rendering variables."
   ]
  },
  {
   "cell_type": "code",
   "execution_count": 7,
   "metadata": {
    "collapsed": false
   },
   "outputs": [],
   "source": [
    "class VisualizerMixin(BaseEstimator, TransformerMixin):\n",
    "    \n",
    "    def __init__():\n",
    "        pass\n",
    "    \n",
    "    def fit():\n",
    "        pass\n",
    "    \n",
    "    def fit_draw():\n",
    "        pass"
   ]
  },
  {
   "cell_type": "markdown",
   "metadata": {},
   "source": [
    "## `FeatureVisualizer` base class\n",
    "\n",
    "Comes between or at the end of transformers but before the estimator. \n",
    "\n",
    "Methods:\n",
    " - `fit`    \n",
    " - `transform`    \n",
    " - `draw`    \n",
    " - `fit_draw`    \n",
    " - `fit_transform` (alias for `fit_draw`)    \n",
    " \n",
    "Needs to extend `BaseEstimator`, `TransformerMixin`, and `VisualizerMixin`."
   ]
  },
  {
   "cell_type": "code",
   "execution_count": 9,
   "metadata": {
    "collapsed": false
   },
   "outputs": [],
   "source": [
    "class FeatureVisualizer(VisualizerMixin):\n",
    "    \n",
    "    def __init__():\n",
    "        pass\n",
    "    \n",
    "    def fit():\n",
    "        pass\n",
    "    \n",
    "    def transform():\n",
    "        pass\n",
    "    \n",
    "    def draw():\n",
    "        pass\n",
    "    \n",
    "    def fit_draw():\n",
    "        pass\n",
    "    \n",
    "    def fit_transform():\n",
    "        pass"
   ]
  },
  {
   "cell_type": "markdown",
   "metadata": {},
   "source": [
    "## `ScoreVisualizer` class for estimators\n",
    "\n",
    "Base class to follow an estimator in a pipeline. Not a transformer. Extends `BaseEstimator`, `VisualizerMixin`, `ScoringMixin`. \n",
    "\n",
    "Methods:\n",
    " - `fit`   \n",
    " - `predict`    \n",
    " - `score`    \n",
    " - `draw`    \n",
    "\n",
    "Need to create a `ScoringMixin`. `ScoringMixin` has scoring function that saves the state of the scoring to the class so that we can draw it. \n",
    "\n",
    "Need to think how we'll access the model from `ScoreVisualizer`. Best option is to have it be instantiated with a model form - this makes sense because we would call fit down into the estimator. The trick will be that the visual pipeline needs to know not to run fit twice."
   ]
  },
  {
   "cell_type": "code",
   "execution_count": 11,
   "metadata": {
    "collapsed": false
   },
   "outputs": [],
   "source": [
    "class ScoringMixin():\n",
    "    \n",
    "    def __init__():\n",
    "        pass\n",
    "    \n",
    "    def score():\n",
    "        pass\n",
    "\n",
    "class ScoreVisualizer(VisualizerMixin, ScoringMixin):\n",
    "    \n",
    "    def __init__():\n",
    "        pass\n",
    "    \n",
    "    def fit():\n",
    "        pass\n",
    "    \n",
    "    def predict():\n",
    "        pass\n",
    "    \n",
    "    def score():\n",
    "        pass\n",
    "    \n",
    "    def draw():\n",
    "        pass"
   ]
  },
  {
   "cell_type": "code",
   "execution_count": null,
   "metadata": {
    "collapsed": true
   },
   "outputs": [],
   "source": []
  }
 ],
 "metadata": {
  "kernelspec": {
   "display_name": "Python 2",
   "language": "python",
   "name": "python2"
  },
  "language_info": {
   "codemirror_mode": {
    "name": "ipython",
    "version": 2
   },
   "file_extension": ".py",
   "mimetype": "text/x-python",
   "name": "python",
   "nbconvert_exporter": "python",
   "pygments_lexer": "ipython2",
   "version": "2.7.9"
  }
 },
 "nbformat": 4,
 "nbformat_minor": 0
}
