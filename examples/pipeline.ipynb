{
 "cells": [
  {
   "cell_type": "markdown",
   "metadata": {},
   "source": [
    "# Visual Pipelines \n",
    "\n",
    "This notebook demonstrates a proof of concept for a visual pipeline for analytics. \n",
    "\n",
    "![Yellowbrick Prototype Pipeline Objects](figures/pipeline_prototype.png)"
   ]
  },
  {
   "cell_type": "code",
   "execution_count": 16,
   "metadata": {
    "collapsed": false
   },
   "outputs": [],
   "source": [
    "%matplotlib inline\n",
    "\n",
    "import os\n",
    "import sys \n",
    "\n",
    "# Modify the path \n",
    "sys.path.append(\"..\")\n",
    "\n",
    "import pandas as pd\n",
    "import yellowbrick as yb \n",
    "import matplotlib as mpl \n",
    "import matplotlib.pyplot as plt "
   ]
  },
  {
   "cell_type": "markdown",
   "metadata": {},
   "source": [
    "## Load Datasets \n",
    "\n",
    "Note that if datasets do not exist, please see the `download.py` located in this directory. "
   ]
  },
  {
   "cell_type": "code",
   "execution_count": 24,
   "metadata": {
    "collapsed": false
   },
   "outputs": [],
   "source": [
    "FIXTURES  = os.path.join(os.getcwd(), \"data\")\n",
    "credit    = pd.read_excel(os.path.join(FIXTURES, \"credit.xls\"), header=1)\n",
    "concrete  = pd.read_excel(os.path.join(FIXTURES, \"concrete.xls\"))\n",
    "occupancy = pd.read_csv(os.path.join('data','occupancy','datatraining.txt'))"
   ]
  },
  {
   "cell_type": "code",
   "execution_count": 25,
   "metadata": {
    "collapsed": true
   },
   "outputs": [],
   "source": [
    "# Rename the columns of the datasets for ease of use. \n",
    "credit.columns = [\n",
    "    'id', 'limit', 'sex', 'edu', 'married', 'age', 'apr_delay', 'may_delay',\n",
    "    'jun_delay', 'jul_delay', 'aug_delay', 'sep_delay', 'apr_bill', 'may_bill',\n",
    "    'jun_bill', 'jul_bill', 'aug_bill', 'sep_bill', 'apr_pay', 'may_pay', 'jun_pay',\n",
    "    'jul_pay', 'aug_pay', 'sep_pay', 'default'\n",
    "]\n",
    "\n",
    "concrete.columns = [\n",
    "    'cement', 'slag', 'ash', 'water', 'splast',\n",
    "    'coarse', 'fine', 'age', 'strength'\n",
    "]\n",
    "\n",
    "occupancy.columns = [\n",
    "    'date', 'temp', 'humid', 'light', 'co2', 'hratio', 'occupied'\n",
    "]\n"
   ]
  },
  {
   "cell_type": "code",
   "execution_count": 12,
   "metadata": {
    "collapsed": false
   },
   "outputs": [
    {
     "data": {
      "text/plain": [
       "[('scale', StandardScaler(copy=True, with_mean=True, with_std=True)),\n",
       " ('model', LinearSVC(C=1.0, class_weight=None, dual=True, fit_intercept=True,\n",
       "       intercept_scaling=1, loss='squared_hinge', max_iter=1000,\n",
       "       multi_class='ovr', penalty='l2', random_state=None, tol=0.0001,\n",
       "       verbose=0))]"
      ]
     },
     "execution_count": 12,
     "metadata": {},
     "output_type": "execute_result"
    }
   ],
   "source": [
    "from sklearn.svm import LinearSVC\n",
    "from sklearn.preprocessing import StandardScaler \n",
    "\n",
    "model = Pipeline([\n",
    "    ('scale', StandardScaler()), \n",
    "    ('model', LinearSVC())\n",
    "])\n",
    "\n",
    "model.steps"
   ]
  },
  {
   "cell_type": "markdown",
   "metadata": {},
   "source": [
    "## Evaluation Visualization Prototype"
   ]
  },
  {
   "cell_type": "code",
   "execution_count": 5,
   "metadata": {
    "collapsed": false
   },
   "outputs": [],
   "source": [
    "from sklearn.pipeline import Pipeline\n",
    "from sklearn.base import BaseEstimator, TransformerMixin\n",
    "\n",
    "\n",
    "class VisualPipeline(Pipeline):\n",
    "    \n",
    "    def draw(self):\n",
    "        \"\"\"\n",
    "        Calls the draw method on every visual transformer/estimator  \n",
    "        \"\"\"\n",
    "        for name, estimator in self.steps:\n",
    "            try:\n",
    "                estimator.draw()\n",
    "            except AttributeError:\n",
    "                continue \n",
    "\n",
    "                \n",
    "class ClassifierEvaluation(object):\n",
    "    \n",
    "    def draw(self):\n",
    "        yb.crplot()"
   ]
  },
  {
   "cell_type": "markdown",
   "metadata": {},
   "source": [
    "## `Visualizer` class\n",
    "\n",
    "In base.py at the root of yellowbrick."
   ]
  },
  {
   "cell_type": "code",
   "execution_count": 69,
   "metadata": {
    "collapsed": false
   },
   "outputs": [],
   "source": [
    "class Visualizer(BaseEstimator):\n",
    "    \"\"\"\n",
    "    Base class for feature visualization and model visualization.\n",
    "    \n",
    "    Ensures that styling arguments are passed in.\n",
    "    \"\"\"\n",
    "    \n",
    "    def __init__(self, **kwargs):\n",
    "        self.size  = kwargs.pop('size')\n",
    "        self.color = kwargs.pop('color')\n",
    "        \n",
    "    def fit(self, X, y=None, **kwargs):\n",
    "        \"\"\"\n",
    "        Fits a transformer to X and y \n",
    "        \"\"\"\n",
    "        pass\n",
    "    \n",
    "    def draw(self, data=None, model=None):\n",
    "        \"\"\"\n",
    "        Visualizes either data features \n",
    "        or fitted model scores\n",
    "        \"\"\"\n",
    "        pass\n",
    "    \n",
    "    def fit_draw(self, X, y=None):\n",
    "        \"\"\"\n",
    "        Fits a transformer to X and y then returns\n",
    "        visualization of features or fitted model.\n",
    "        \"\"\"\n",
    "        pass\n",
    "    "
   ]
  },
  {
   "cell_type": "markdown",
   "metadata": {},
   "source": [
    "## `FeatureVisualizer` base class\n",
    "\n",
    "Comes between or at the end of transformers but before the estimator. "
   ]
  },
  {
   "cell_type": "code",
   "execution_count": 18,
   "metadata": {
    "collapsed": false
   },
   "outputs": [],
   "source": [
    "class FeatureVisualizer(Visualizer, TransformerMixin):\n",
    "    \"\"\"\n",
    "    Base class for feature visualization to investigate features \n",
    "    individually or together.\n",
    "    \n",
    "    FeatureVisualizer is itself a transformer so that it can be used in\n",
    "    a Scikit-Learn Pipeline to perform automatic visual analysis during build.\n",
    "    \n",
    "    Accepts as input a DataFrame or Numpy array.\n",
    "    \"\"\"    \n",
    "    \n",
    "    def __init__(self):\n",
    "        pass\n",
    "    \n",
    "    def fit(self, X, y=None, **kwargs):\n",
    "        pass\n",
    "    \n",
    "    def transform(self, X):\n",
    "        pass\n",
    "    \n",
    "    def draw(self, data=None):\n",
    "        \"\"\"\n",
    "        Visualize data features individually or together\n",
    "        \"\"\"\n",
    "        pass\n",
    "    \n",
    "    def fit_draw(self, X, data=None):\n",
    "        pass\n",
    "    \n",
    "    def fit_transform(self, X, data=None):\n",
    "        pass"
   ]
  },
  {
   "cell_type": "markdown",
   "metadata": {},
   "source": [
    "## `ScoreVisualizer` class for estimators\n",
    "\n",
    "Base class to follow an estimator in a pipeline. Not a transformer. "
   ]
  },
  {
   "cell_type": "code",
   "execution_count": 96,
   "metadata": {
    "collapsed": false
   },
   "outputs": [],
   "source": [
    "from yellowbrick.utils import get_model_name, isestimator\n",
    "from sklearn.metrics import auc, roc_auc_score, roc_curve, classification_report as cr\n",
    "\n",
    "class ScoreVisualizer(Visualizer):\n",
    "    \"\"\"\n",
    "    Base class to follow an estimator in a visual pipeline.\n",
    "    \n",
    "    Draws the score for the fitted model.\n",
    "    \"\"\"\n",
    "    \n",
    "    def __init__(self, model):\n",
    "        pass\n",
    "    \n",
    "    def fit(self, X, y=None):\n",
    "        pass\n",
    "    \n",
    "    def predict(self, X):\n",
    "        pass\n",
    "    \n",
    "    def score(self, y, y_pred=None):\n",
    "        \"\"\"\n",
    "        Score will call draw to visualize model performance.\n",
    "        If y_pred is None, call fit-predict on the model to get a y_pred.\n",
    "        \"\"\"\n",
    "        return self.draw(y,y_pred)\n",
    "\n",
    "    def render(self, X, y):\n",
    "        pass \n",
    "    \n",
    "    def draw(self, y, y_pred, **kwargs):\n",
    "        \"\"\"\n",
    "        Draw will call render\n",
    "        \"\"\"\n",
    "        pass\n",
    "\n",
    "class ClassificationScoreVisualizer(ScoreVisualizer):\n",
    "    \n",
    "    def __init__(self, model):\n",
    "        \"\"\"\n",
    "        Check to see if model is an instance of a classifer.\n",
    "        Should return a metrics mismatch error if it isn't.\n",
    "        \"\"\"\n",
    "        pass\n",
    "\n",
    "class ROCAUC(ClassificationScoreVisualizer):\n",
    "    \"\"\"\n",
    "    Plot the ROC to visualize the tradeoff between the classifier's\n",
    "    sensitivity and specificity.\n",
    "    \"\"\"\n",
    "    def __init__(self, model, **kwargs):\n",
    "        \"\"\"\n",
    "        Pass in a model to generate a ROC curve.\n",
    "        \"\"\"\n",
    "        self.estimator = model\n",
    "        self.name = get_model_name(self.estimator)\n",
    "        super(ROCAUC, self).__init__(model, **kwargs)\n",
    "        self.colors = {\n",
    "            'roc': kwargs.pop('roc_color', '#2B94E9'),\n",
    "            'diagonal': kwargs.pop('diagonal_color', '#666666'),\n",
    "        }\n",
    "\n",
    "    def fit(self):\n",
    "        pass\n",
    "    \n",
    "    def predict(self):\n",
    "        pass\n",
    "\n",
    "    def render(self, y, y_pred):\n",
    "        \"\"\"\n",
    "        Renders ROC-AUC plot.\n",
    "        \"\"\"\n",
    "        name  = self.name\n",
    "        model = self.estimator\n",
    "        fpr, tpr, thresholds = roc_curve(y, y_pred)\n",
    "        roc_auc = auc(fpr, tpr)\n",
    "        \n",
    "        plt.figure()\n",
    "        \n",
    "        plt.plot(fpr, tpr, c=self.colors['roc'], label='AUC = {:0.2f}'.format(roc_auc))\n",
    "\n",
    "        # Plot the line of no discrimination to compare the curve to.\n",
    "        plt.plot([0,1],[0,1],'m--',c=self.colors['diagonal'])\n",
    "\n",
    "        plt.title('ROC for {}'.format(name))\n",
    "        plt.legend(loc='lower right')\n",
    "\n",
    "        plt.xlim([0,1])\n",
    "        plt.ylim([0,1.1])\n",
    "\n",
    "        return plt\n",
    "\n",
    "\n",
    "    def draw(self, y, y_pred, **kwargs):\n",
    "        \"\"\"\n",
    "        Take in the model, data and labels as input and generate a multi-plot of\n",
    "        the ROC plots with AUC metrics embedded.\n",
    "        \"\"\"\n",
    "        viz = ROCAUC(model, **kwargs)\n",
    "        return viz.render(y, y_pred)"
   ]
  },
  {
   "cell_type": "code",
   "execution_count": 97,
   "metadata": {
    "collapsed": true
   },
   "outputs": [],
   "source": [
    "from sklearn.svm import LinearSVC\n",
    "from sklearn.tree import DecisionTreeClassifier\n",
    "from sklearn.linear_model import LogisticRegression"
   ]
  },
  {
   "cell_type": "code",
   "execution_count": 98,
   "metadata": {
    "collapsed": false
   },
   "outputs": [],
   "source": [
    "X = occupancy[['temp','humid','light','co2','hratio']]\n",
    "y = occupancy['occupied']"
   ]
  },
  {
   "cell_type": "code",
   "execution_count": 99,
   "metadata": {
    "collapsed": false
   },
   "outputs": [],
   "source": [
    "model = LinearSVC()\n",
    "model.fit(X,y)\n",
    "y_pred = model.predict(X)"
   ]
  },
  {
   "cell_type": "code",
   "execution_count": 100,
   "metadata": {
    "collapsed": false
   },
   "outputs": [
    {
     "data": {
      "text/plain": [
       "<module 'matplotlib.pyplot' from '/Library/Frameworks/Python.framework/Versions/2.7/lib/python2.7/site-packages/matplotlib/pyplot.pyc'>"
      ]
     },
     "execution_count": 100,
     "metadata": {},
     "output_type": "execute_result"
    },
    {
     "data": {
      "image/png": "[encoded data removed]",
      "text/plain": [
       "<matplotlib.figure.Figure at 0x10d787ed0>"
      ]
     },
     "metadata": {},
     "output_type": "display_data"
    }
   ],
   "source": [
    "sviz = ROCAUC(model)\n",
    "sviz.score(y,y_pred)"
   ]
  },
  {
   "cell_type": "code",
   "execution_count": 101,
   "metadata": {
    "collapsed": false
   },
   "outputs": [
    {
     "data": {
      "text/plain": [
       "<module 'matplotlib.pyplot' from '/Library/Frameworks/Python.framework/Versions/2.7/lib/python2.7/site-packages/matplotlib/pyplot.pyc'>"
      ]
     },
     "execution_count": 101,
     "metadata": {},
     "output_type": "execute_result"
    },
    {
     "data": {
      "image/png": "[encoded data removed]",
      "text/plain": [
       "<matplotlib.figure.Figure at 0x109887d90>"
      ]
     },
     "metadata": {},
     "output_type": "display_data"
    }
   ],
   "source": [
    "model = DecisionTreeClassifier()\n",
    "model.fit(X,y)\n",
    "y_pred = model.predict(X)\n",
    "sviz = ROCAUC(model)\n",
    "sviz.score(y,y_pred)"
   ]
  },
  {
   "cell_type": "code",
   "execution_count": 102,
   "metadata": {
    "collapsed": false
   },
   "outputs": [
    {
     "data": {
      "text/plain": [
       "<module 'matplotlib.pyplot' from '/Library/Frameworks/Python.framework/Versions/2.7/lib/python2.7/site-packages/matplotlib/pyplot.pyc'>"
      ]
     },
     "execution_count": 102,
     "metadata": {},
     "output_type": "execute_result"
    },
    {
     "data": {
      "image/png": "[encoded data removed]",
      "text/plain": [
       "<matplotlib.figure.Figure at 0x10b61e910>"
      ]
     },
     "metadata": {},
     "output_type": "display_data"
    }
   ],
   "source": [
    "model = LogisticRegression()\n",
    "model.fit(X,y)\n",
    "y_pred = model.predict(X)\n",
    "sviz = ROCAUC(model)\n",
    "sviz.score(y,y_pred)"
   ]
  },
  {
   "cell_type": "code",
   "execution_count": null,
   "metadata": {
    "collapsed": true
   },
   "outputs": [],
   "source": []
  }
 ],
 "metadata": {
  "kernelspec": {
   "display_name": "Python 2",
   "language": "python",
   "name": "python2"
  },
  "language_info": {
   "codemirror_mode": {
    "name": "ipython",
    "version": 2
   },
   "file_extension": ".py",
   "mimetype": "text/x-python",
   "name": "python",
   "nbconvert_exporter": "python",
   "pygments_lexer": "ipython2",
   "version": "2.7.9"
  }
 },
 "nbformat": 4,
 "nbformat_minor": 0
}
