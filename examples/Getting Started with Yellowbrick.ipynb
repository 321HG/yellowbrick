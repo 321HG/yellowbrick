{
 "cells": [
  {
   "cell_type": "code",
   "execution_count": 1,
   "metadata": {
    "collapsed": true
   },
   "outputs": [],
   "source": [
    "%matplotlib notebook"
   ]
  },
  {
   "cell_type": "markdown",
   "metadata": {},
   "source": [
    "# Getting Started with Yellowbrick \n",
    "\n",
    "Thank you for agreeing to help alpha test the Yellowbrick library!"
   ]
  },
  {
   "cell_type": "code",
   "execution_count": null,
   "metadata": {
    "collapsed": true
   },
   "outputs": [],
   "source": []
  },
  {
   "cell_type": "markdown",
   "metadata": {},
   "source": [
    "## Alpha Testing \n",
    "\n",
    "We are looking for people to help us Alpha test the Yellowbrick project! Helping is simple: simply create a notebook that applies the concepts in this getting started guide to a small to medium size data set of your choice. Run through the examples with the dataset, and try to change options and customize as much as possible. After you've exercised the code with your examples, respond to our alpha testing survey!\n",
    "\n",
    "### Step One: Dataset \n",
    "\n",
    "Select a multivariate dataset of your own; the more datasets that we can run through Yellowbrick, the more likely we'll discover edge cases and exceptions! Note that the dataset must be well-suited to modeling with Scikit-Learn. In particular we recommend you choose a dataset whose target is suited to the following tasks:\n",
    "\n",
    "- [Regression](https://en.wikipedia.org/wiki/Regression_analysis) (target is a continuous variable)\n",
    "- [Classification](https://en.wikipedia.org/wiki/Classification_in_machine_learning) (target is a discrete variable) \n",
    "\n",
    "There are data sets that are well suited to both types of analysis; either way you'll be utilizing the testing methodology for one, the other, or both. In order to find a dataset, we recommend you try the following places:\n",
    "\n",
    "- [UCI Machine Learning Repository](http://archive.ics.uci.edu/ml/)\n",
    "- [MLData.org](http://mldata.org/)\n",
    "- [Awesome Public Datasets](https://github.com/caesar0301/awesome-public-datasets) \n",
    "\n",
    "You're more than welcome to choose a dataset of your own, but we do ask that you make at least the notebook containing your testing results publically available for us to review. If the data is also public (or you're willing to share it with the primary contributors) that will help us figure out bugs and required features much more easily! \n",
    "\n",
    "### Step Two: Notebook \n"
   ]
  }
 ],
 "metadata": {
  "kernelspec": {
   "display_name": "Python 3",
   "language": "python",
   "name": "python3"
  },
  "language_info": {
   "codemirror_mode": {
    "name": "ipython",
    "version": 3
   },
   "file_extension": ".py",
   "mimetype": "text/x-python",
   "name": "python",
   "nbconvert_exporter": "python",
   "pygments_lexer": "ipython3",
   "version": "3.5.1"
  }
 },
 "nbformat": 4,
 "nbformat_minor": 0
}
