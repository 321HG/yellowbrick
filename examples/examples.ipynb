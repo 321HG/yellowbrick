{
 "cells": [
  {
   "cell_type": "markdown",
   "metadata": {},
   "source": [
    "# Yellowbrick Examples \n",
    "\n",
    "Ths notebook is a sample of the examples that yellowbrick provids."
   ]
  },
  {
   "cell_type": "code",
   "execution_count": 1,
   "metadata": {
    "collapsed": false
   },
   "outputs": [],
   "source": [
    "%matplotlib inline\n",
    "\n",
    "import os\n",
    "import sys \n",
    "\n",
    "# Modify the path \n",
    "sys.path.append(\"..\")\n",
    "\n",
    "import pandas as pd\n",
    "import yellowbrick as yb \n",
    "import matplotlib as mpl \n",
    "import matplotlib.pyplot as plt "
   ]
  },
  {
   "cell_type": "code",
   "execution_count": 2,
   "metadata": {
    "collapsed": false
   },
   "outputs": [
    {
     "data": {
      "text/plain": [
       "(<matplotlib.axes._subplots.AxesSubplot at 0x10fb1f150>,\n",
       " <matplotlib.axes._subplots.AxesSubplot at 0x10fbbb550>,\n",
       " <matplotlib.axes._subplots.AxesSubplot at 0x10fc44290>,\n",
       " <matplotlib.axes._subplots.AxesSubplot at 0x10fc9ee90>)"
      ]
     },
     "execution_count": 2,
     "metadata": {},
     "output_type": "execute_result"
    },
    {
     "data": {
      "image/png": "[encoded data removed]",
      "text/plain": [
       "<matplotlib.figure.Figure at 0x10b282fd0>"
      ]
     },
     "metadata": {},
     "output_type": "display_data"
    }
   ],
   "source": [
    "yb.anscombe()"
   ]
  },
  {
   "cell_type": "markdown",
   "metadata": {
    "collapsed": false
   },
   "source": [
    "## Load Datasets for Example Code"
   ]
  },
  {
   "cell_type": "code",
   "execution_count": 3,
   "metadata": {
    "collapsed": false
   },
   "outputs": [],
   "source": [
    "FIXTURES  = os.path.join(os.getcwd(), \"data\")\n",
    "credit    = pd.read_excel(os.path.join(FIXTURES, \"credit.xls\"), header=1)\n",
    "concrete  = pd.read_excel(os.path.join(FIXTURES, \"concrete.xls\"))\n",
    "occupancy = pd.read_csv(os.path.join('data','occupancy','datatraining.txt'))"
   ]
  },
  {
   "cell_type": "code",
   "execution_count": 4,
   "metadata": {
    "collapsed": false
   },
   "outputs": [],
   "source": [
    "# Rename the columns of the datasets for ease of use. \n",
    "credit.columns = [\n",
    "    'id', 'limit', 'sex', 'edu', 'married', 'age', 'apr_delay', 'may_delay',\n",
    "    'jun_delay', 'jul_delay', 'aug_delay', 'sep_delay', 'apr_bill', 'may_bill',\n",
    "    'jun_bill', 'jul_bill', 'aug_bill', 'sep_bill', 'apr_pay', 'may_pay', 'jun_pay',\n",
    "    'jul_pay', 'aug_pay', 'sep_pay', 'default'\n",
    "]\n",
    "\n",
    "concrete.columns = [\n",
    "    'cement', 'slag', 'ash', 'water', 'splast',\n",
    "    'coarse', 'fine', 'age', 'strength'\n",
    "]\n",
    "\n",
    "occupancy.columns = [\n",
    "    'date', 'temp', 'humid', 'light', 'co2', 'hratio', 'occupied'\n",
    "]\n"
   ]
  },
  {
   "cell_type": "code",
   "execution_count": 5,
   "metadata": {
    "collapsed": false
   },
   "outputs": [],
   "source": [
    "# Build models to use in visualization \n",
    "\n",
    "from sklearn.svm import LinearSVC\n",
    "from sklearn.pipeline import Pipeline\n",
    "from sklearn.datasets.base import Bunch\n",
    "from sklearn.preprocessing import StandardScaler \n",
    "from sklearn.neighbors import KNeighborsClassifier\n",
    "from sklearn.metrics import classification_report as clsr\n",
    "from sklearn.cross_validation import train_test_split as tts \n",
    "\n",
    "def build_model(data, features, target, model):\n",
    "    \"\"\"\n",
    "    A helper function to quickly buiild a model from the data frames. \n",
    "\n",
    "    data: the data frame of the object to build. \n",
    "    features: the names of the attributes to extract as features.    \n",
    "    target: the name of the column that is the target.\n",
    "    model: an instance of the model to fit. \n",
    "    \n",
    "    returns: the fitted model, as well as a Bunch: (X_train, X_test, y_train, y_test). \n",
    "    \"\"\"\n",
    "    X = data[features]\n",
    "    y = data[target]\n",
    "    \n",
    "    X_train, X_test, y_train, y_test = tts(X, y, test_size=0.2)\n",
    "    \n",
    "    model = Pipeline([\n",
    "        ('scale', StandardScaler()), \n",
    "        ('model', model)\n",
    "    ])\n",
    "    \n",
    "    model.fit(X_train, y_train)\n",
    "    \n",
    "    return model, Bunch(\n",
    "        X_train = X_train,\n",
    "        X_test  = X_test,\n",
    "        y_train = y_train,\n",
    "        y_test  = y_test,\n",
    "    )\n",
    "\n",
    "\n",
    "oclm, oclm_data = build_model(occupancy, ['temp', 'humid', 'light', 'co2', 'hratio'], 'occupied', LinearSVC())"
   ]
  },
  {
   "cell_type": "code",
   "execution_count": 6,
   "metadata": {
    "collapsed": false
   },
   "outputs": [
    {
     "data": {
      "text/plain": [
       "<matplotlib.axes._subplots.AxesSubplot at 0x11013d490>"
      ]
     },
     "execution_count": 6,
     "metadata": {},
     "output_type": "execute_result"
    },
    {
     "data": {
      "image/png": "[encoded data removed]",
      "text/plain": [
       "<matplotlib.figure.Figure at 0x10fdf1610>"
      ]
     },
     "metadata": {},
     "output_type": "display_data"
    }
   ],
   "source": [
    "y_pred = oclm.predict(oclm_data.X_test)\n",
    "yb.crplot(oclm, oclm_data.y_test, y_pred)"
   ]
  },
  {
   "cell_type": "code",
   "execution_count": 7,
   "metadata": {
    "collapsed": false
   },
   "outputs": [],
   "source": [
    "ocknn, ocknn_data = build_model(occupancy, ['temp', 'humid', 'light', 'co2', 'hratio'], 'occupied', KNeighborsClassifier())"
   ]
  },
  {
   "cell_type": "code",
   "execution_count": 8,
   "metadata": {
    "collapsed": false
   },
   "outputs": [
    {
     "data": {
      "text/plain": [
       "array([<matplotlib.axes._subplots.AxesSubplot object at 0x111b287d0>,\n",
       "       <matplotlib.axes._subplots.AxesSubplot object at 0x1105e8b10>], dtype=object)"
      ]
     },
     "execution_count": 8,
     "metadata": {},
     "output_type": "execute_result"
    },
    {
     "data": {
      "image/png": "[encoded data removed]",
      "text/plain": [
       "<matplotlib.figure.Figure at 0x10fe21950>"
      ]
     },
     "metadata": {},
     "output_type": "display_data"
    }
   ],
   "source": [
    "yb.rocplot_compare(\n",
    "    [oclm, ocknn], [oclm_data.y_test, ocknn_data.y_test], \n",
    "    [oclm.predict(oclm_data.X_test), ocknn.predict(ocknn_data.X_test)]\n",
    ")"
   ]
  },
  {
   "cell_type": "code",
   "execution_count": 9,
   "metadata": {
    "collapsed": false
   },
   "outputs": [
    {
     "name": "stdout",
     "output_type": "stream",
     "text": [
      "KNeighborsClassifier(algorithm='auto', leaf_size=30, metric='minkowski',\n",
      "           metric_params=None, n_jobs=1, n_neighbors=5, p=2,\n",
      "           weights='uniform')\n"
     ]
    }
   ],
   "source": [
    "print ocknn.steps[-1][1]"
   ]
  }
 ],
 "metadata": {
  "kernelspec": {
   "display_name": "Python 2",
   "language": "python",
   "name": "python2"
  },
  "language_info": {
   "codemirror_mode": {
    "name": "ipython",
    "version": 2
   },
   "file_extension": ".py",
   "mimetype": "text/x-python",
   "name": "python",
   "nbconvert_exporter": "python",
   "pygments_lexer": "ipython2",
   "version": "2.7.11"
  }
 },
 "nbformat": 4,
 "nbformat_minor": 0
}
