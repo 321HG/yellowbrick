{
 "cells": [
  {
   "cell_type": "markdown",
   "metadata": {},
   "source": [
    "# Yellowbrick Examples \n",
    "\n",
    "Ths notebook is a sample of the examples that yellowbrick provids."
   ]
  },
  {
   "cell_type": "code",
   "execution_count": 9,
   "metadata": {
    "collapsed": false
   },
   "outputs": [],
   "source": [
    "%matplotlib inline\n",
    "\n",
    "import os\n",
    "import sys \n",
    "\n",
    "# Modify the path \n",
    "sys.path.append(\"..\")\n",
    "\n",
    "import pandas as pd\n",
    "import yellowbrick as yb \n",
    "import matplotlib as mpl \n",
    "import matplotlib.pyplot as plt "
   ]
  },
  {
   "cell_type": "code",
   "execution_count": 10,
   "metadata": {
    "collapsed": false
   },
   "outputs": [
    {
     "data": {
      "text/plain": [
       "(<matplotlib.axes._subplots.AxesSubplot at 0x11d3d1e80>,\n",
       " <matplotlib.axes._subplots.AxesSubplot at 0x11c85c5c0>,\n",
       " <matplotlib.axes._subplots.AxesSubplot at 0x11ad376a0>,\n",
       " <matplotlib.axes._subplots.AxesSubplot at 0x11acf6b00>)"
      ]
     },
     "execution_count": 10,
     "metadata": {},
     "output_type": "execute_result"
    },
    {
     "data": {
      "image/png": "[encoded data removed]",
      "text/plain": [
       "<matplotlib.figure.Figure at 0x11ab6c908>"
      ]
     },
     "metadata": {},
     "output_type": "display_data"
    }
   ],
   "source": [
    "yb.anscombe()"
   ]
  },
  {
   "cell_type": "markdown",
   "metadata": {
    "collapsed": false
   },
   "source": [
    "## Load Datasets for Example Code"
   ]
  },
  {
   "cell_type": "code",
   "execution_count": 11,
   "metadata": {
    "collapsed": false
   },
   "outputs": [],
   "source": [
    "FIXTURES  = os.path.join(os.getcwd(), \"data\")\n",
    "credit    = pd.read_excel(os.path.join(FIXTURES, \"credit.xls\"), header=1)\n",
    "concrete  = pd.read_excel(os.path.join(FIXTURES, \"concrete.xls\"))\n",
    "occupancy = pd.read_csv(os.path.join('data','occupancy','datatraining.txt'))"
   ]
  },
  {
   "cell_type": "code",
   "execution_count": 12,
   "metadata": {
    "collapsed": false
   },
   "outputs": [],
   "source": [
    "# Rename the columns of the datasets for ease of use. \n",
    "credit.columns = [\n",
    "    'id', 'limit', 'sex', 'edu', 'married', 'age', 'apr_delay', 'may_delay',\n",
    "    'jun_delay', 'jul_delay', 'aug_delay', 'sep_delay', 'apr_bill', 'may_bill',\n",
    "    'jun_bill', 'jul_bill', 'aug_bill', 'sep_bill', 'apr_pay', 'may_pay', 'jun_pay',\n",
    "    'jul_pay', 'aug_pay', 'sep_pay', 'default'\n",
    "]\n",
    "\n",
    "concrete.columns = [\n",
    "    'cement', 'slag', 'ash', 'water', 'splast',\n",
    "    'coarse', 'fine', 'age', 'strength'\n",
    "]\n",
    "\n",
    "occupancy.columns = [\n",
    "    'date', 'temp', 'humid', 'light', 'co2', 'hratio', 'occupied'\n",
    "]\n"
   ]
  },
  {
   "cell_type": "code",
   "execution_count": 13,
   "metadata": {
    "collapsed": false
   },
   "outputs": [],
   "source": [
    "# Build models to use in visualization \n",
    "\n",
    "from sklearn.svm import LinearSVC\n",
    "from sklearn.pipeline import Pipeline\n",
    "from sklearn.datasets.base import Bunch\n",
    "from sklearn.tree import DecisionTreeClassifier\n",
    "from sklearn.preprocessing import StandardScaler \n",
    "from sklearn.neighbors import KNeighborsClassifier\n",
    "from sklearn.metrics import classification_report as clsr\n",
    "from sklearn.cross_validation import train_test_split as tts \n",
    "\n",
    "def build_model(data, features, target, model):\n",
    "    \"\"\"\n",
    "    A helper function to quickly buiild a model from the data frames. \n",
    "\n",
    "    data: the data frame of the object to build. \n",
    "    features: the names of the attributes to extract as features.    \n",
    "    target: the name of the column that is the target.\n",
    "    model: an instance of the model to fit. \n",
    "    \n",
    "    returns: the fitted model, as well as a Bunch: (X_train, X_test, y_train, y_test). \n",
    "    \"\"\"\n",
    "    X = data[features]\n",
    "    y = data[target]\n",
    "    \n",
    "    X_train, X_test, y_train, y_test = tts(X, y, test_size=0.2)\n",
    "    \n",
    "    model = Pipeline([\n",
    "        ('scale', StandardScaler()), \n",
    "        ('model', model)\n",
    "    ])\n",
    "    \n",
    "    model.fit(X_train, y_train)\n",
    "    \n",
    "    return model, Bunch(\n",
    "        X_train = X_train,\n",
    "        X_test  = X_test,\n",
    "        y_train = y_train,\n",
    "        y_test  = y_test,\n",
    "    )\n",
    "\n",
    "\n",
    "oclm, oclm_data = build_model(occupancy, ['temp', 'humid', 'light', 'co2', 'hratio'], 'occupied', LinearSVC())"
   ]
  },
  {
   "cell_type": "code",
   "execution_count": 14,
   "metadata": {
    "collapsed": false
   },
   "outputs": [
    {
     "data": {
      "text/plain": [
       "<matplotlib.axes._subplots.AxesSubplot at 0x11ae0f898>"
      ]
     },
     "execution_count": 14,
     "metadata": {},
     "output_type": "execute_result"
    },
    {
     "data": {
      "image/png": "[encoded data removed]",
      "text/plain": [
       "<matplotlib.figure.Figure at 0x119fae1d0>"
      ]
     },
     "metadata": {},
     "output_type": "display_data"
    }
   ],
   "source": [
    "y_pred = oclm.predict(oclm_data.X_test)\n",
    "yb.crplot(oclm, oclm_data.y_test, y_pred)"
   ]
  },
  {
   "cell_type": "code",
   "execution_count": 15,
   "metadata": {
    "collapsed": false
   },
   "outputs": [],
   "source": [
    "ocknn, ocknn_data = build_model(occupancy, ['temp', 'humid', 'light', 'co2', 'hratio'], 'occupied', KNeighborsClassifier())"
   ]
  },
  {
   "cell_type": "code",
   "execution_count": 16,
   "metadata": {
    "collapsed": false
   },
   "outputs": [
    {
     "data": {
      "text/plain": [
       "<matplotlib.axes._subplots.AxesSubplot at 0x11eef2160>"
      ]
     },
     "execution_count": 16,
     "metadata": {},
     "output_type": "execute_result"
    },
    {
     "data": {
      "image/png": "[encoded data removed]",
      "text/plain": [
       "<matplotlib.figure.Figure at 0x102a04710>"
      ]
     },
     "metadata": {},
     "output_type": "display_data"
    }
   ],
   "source": [
    "feats = ['temp', 'humid', 'light', 'co2', 'hratio']\n",
    "\n",
    "models = [\n",
    "    build_model(occupancy, feats, 'occupied', LinearSVC()),\n",
    "    build_model(occupancy, feats, 'occupied', KNeighborsClassifier()),\n",
    "    build_model(occupancy, feats, 'occupied', DecisionTreeClassifier())\n",
    "]\n",
    "\n",
    "yb.rocplot([model[0] for model in models], occupancy[feats], occupancy['occupied'])\n"
   ]
  },
  {
   "cell_type": "code",
   "execution_count": null,
   "metadata": {
    "collapsed": false
   },
   "outputs": [],
   "source": [
    "print(ocknn.steps[-1][1])"
   ]
  },
  {
   "cell_type": "code",
   "execution_count": null,
   "metadata": {
    "collapsed": false
   },
   "outputs": [],
   "source": [
    "from sklearn.linear_model import Ridge, RANSACRegressor \n",
    "from sklearn.svm import SVR\n",
    "\n",
    "feats  = [\n",
    "    'cement', 'slag', 'ash', 'water', 'splast', 'coarse', 'fine', 'age',\n",
    "]\n",
    "\n",
    "models = [\n",
    "    build_model(concrete, feats, 'strength', Ridge()),\n",
    "    build_model(concrete, feats, 'strength', SVR()),\n",
    "    build_model(concrete, feats, 'strength', RANSACRegressor())\n",
    "]\n",
    "\n",
    "yb.peplot([model[0] for model in models], concrete[feats], concrete['strength'])\n"
   ]
  },
  {
   "cell_type": "code",
   "execution_count": null,
   "metadata": {
    "collapsed": false
   },
   "outputs": [],
   "source": [
    "from sklearn.linear_model import LinearRegression \n",
    "\n",
    "models = [Ridge(), LinearRegression(), SVR()]\n",
    "yb.residuals_plot(models, concrete[feats], concrete['strength'])"
   ]
  },
  {
   "cell_type": "code",
   "execution_count": null,
   "metadata": {
    "collapsed": true
   },
   "outputs": [],
   "source": []
  },
  {
   "cell_type": "code",
   "execution_count": null,
   "metadata": {
    "collapsed": true
   },
   "outputs": [],
   "source": []
  },
  {
   "cell_type": "code",
   "execution_count": null,
   "metadata": {
    "collapsed": true
   },
   "outputs": [],
   "source": []
  }
 ],
 "metadata": {
  "kernelspec": {
   "display_name": "Python 3",
   "language": "python",
   "name": "python3"
  },
  "language_info": {
   "codemirror_mode": {
    "name": "ipython",
    "version": 3
   },
   "file_extension": ".py",
   "mimetype": "text/x-python",
   "name": "python",
   "nbconvert_exporter": "python",
   "pygments_lexer": "ipython3",
   "version": "3.5.1"
  }
 },
 "nbformat": 4,
 "nbformat_minor": 0
}
